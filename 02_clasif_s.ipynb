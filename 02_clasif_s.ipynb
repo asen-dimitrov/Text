{
 "cells": [
  {
   "cell_type": "code",
   "execution_count": 1,
   "metadata": {},
   "outputs": [],
   "source": [
    "import pandas as pd\n",
    "import nltk\n",
    "from nltk.tokenize import word_tokenize \n",
    "from matplotlib import pyplot as plt\n",
    "from sklearn.preprocessing import LabelEncoder\n",
    "from sklearn import metrics\n",
    "from sklearn.model_selection import train_test_split\n",
    "import warnings\n",
    "warnings.filterwarnings(\"ignore\")"
   ]
  },
  {
   "cell_type": "code",
   "execution_count": 2,
   "metadata": {},
   "outputs": [
    {
     "data": {
      "text/html": [
       "<div>\n",
       "<style scoped>\n",
       "    .dataframe tbody tr th:only-of-type {\n",
       "        vertical-align: middle;\n",
       "    }\n",
       "\n",
       "    .dataframe tbody tr th {\n",
       "        vertical-align: top;\n",
       "    }\n",
       "\n",
       "    .dataframe thead th {\n",
       "        text-align: right;\n",
       "    }\n",
       "</style>\n",
       "<table border=\"1\" class=\"dataframe\">\n",
       "  <thead>\n",
       "    <tr style=\"text-align: right;\">\n",
       "      <th></th>\n",
       "      <th>n</th>\n",
       "      <th>p</th>\n",
       "    </tr>\n",
       "  </thead>\n",
       "  <tbody>\n",
       "    <tr>\n",
       "      <td>count</td>\n",
       "      <td>143367</td>\n",
       "      <td>143367</td>\n",
       "    </tr>\n",
       "    <tr>\n",
       "      <td>unique</td>\n",
       "      <td>92147</td>\n",
       "      <td>2</td>\n",
       "    </tr>\n",
       "    <tr>\n",
       "      <td>top</td>\n",
       "      <td>ИВАН ИВАНОВ</td>\n",
       "      <td>1</td>\n",
       "    </tr>\n",
       "    <tr>\n",
       "      <td>freq</td>\n",
       "      <td>866</td>\n",
       "      <td>82010</td>\n",
       "    </tr>\n",
       "  </tbody>\n",
       "</table>\n",
       "</div>"
      ],
      "text/plain": [
       "                  n       p\n",
       "count        143367  143367\n",
       "unique        92147       2\n",
       "top     ИВАН ИВАНОВ       1\n",
       "freq            866   82010"
      ]
     },
     "execution_count": 2,
     "metadata": {},
     "output_type": "execute_result"
    }
   ],
   "source": [
    "data=pd.read_csv('~/Book4.csv', encoding='cp1251')\n",
    "data = data.astype('str')\n",
    "data.dropna()\n",
    "data.describe()"
   ]
  },
  {
   "cell_type": "code",
   "execution_count": 3,
   "metadata": {},
   "outputs": [
    {
     "data": {
      "text/html": [
       "<div>\n",
       "<style scoped>\n",
       "    .dataframe tbody tr th:only-of-type {\n",
       "        vertical-align: middle;\n",
       "    }\n",
       "\n",
       "    .dataframe tbody tr th {\n",
       "        vertical-align: top;\n",
       "    }\n",
       "\n",
       "    .dataframe thead th {\n",
       "        text-align: right;\n",
       "    }\n",
       "</style>\n",
       "<table border=\"1\" class=\"dataframe\">\n",
       "  <thead>\n",
       "    <tr style=\"text-align: right;\">\n",
       "      <th></th>\n",
       "      <th>n</th>\n",
       "      <th>p</th>\n",
       "    </tr>\n",
       "  </thead>\n",
       "  <tbody>\n",
       "    <tr>\n",
       "      <td>66934</td>\n",
       "      <td>МИТКО МАРИНОВ</td>\n",
       "      <td>1</td>\n",
       "    </tr>\n",
       "    <tr>\n",
       "      <td>73342</td>\n",
       "      <td>РУМЯНА ЕНЧЕВА</td>\n",
       "      <td>0</td>\n",
       "    </tr>\n",
       "    <tr>\n",
       "      <td>133660</td>\n",
       "      <td>ДИМИТЪР ИВАНОВ</td>\n",
       "      <td>1</td>\n",
       "    </tr>\n",
       "    <tr>\n",
       "      <td>14051</td>\n",
       "      <td>ИВАН ТОДОРОВ</td>\n",
       "      <td>1</td>\n",
       "    </tr>\n",
       "    <tr>\n",
       "      <td>37126</td>\n",
       "      <td>ЗЮЛЕЙХА САДЪК</td>\n",
       "      <td>0</td>\n",
       "    </tr>\n",
       "  </tbody>\n",
       "</table>\n",
       "</div>"
      ],
      "text/plain": [
       "                     n  p\n",
       "66934    МИТКО МАРИНОВ  1\n",
       "73342    РУМЯНА ЕНЧЕВА  0\n",
       "133660  ДИМИТЪР ИВАНОВ  1\n",
       "14051     ИВАН ТОДОРОВ  1\n",
       "37126    ЗЮЛЕЙХА САДЪК  0"
      ]
     },
     "execution_count": 3,
     "metadata": {},
     "output_type": "execute_result"
    }
   ],
   "source": [
    "data=data.sample(frac=0.8, replace=False, random_state=7)\n",
    "data.head()"
   ]
  },
  {
   "cell_type": "code",
   "execution_count": 4,
   "metadata": {},
   "outputs": [],
   "source": [
    "data.reset_index(drop=True, inplace=True)"
   ]
  },
  {
   "cell_type": "code",
   "execution_count": 5,
   "metadata": {},
   "outputs": [],
   "source": [
    "def tokenize(text):\n",
    "    tokens = nltk.word_tokenize(str(text))                            \n",
    "    tokens = [word[-3:] for word in tokens] \n",
    "    tokens = \" \".join(tokens)\n",
    "    tokens = tokens.upper()# 5   \n",
    "    return tokens\n"
   ]
  },
  {
   "cell_type": "code",
   "execution_count": 6,
   "metadata": {},
   "outputs": [
    {
     "name": "stdout",
     "output_type": "stream",
     "text": [
      "(114694, 3)\n"
     ]
    }
   ],
   "source": [
    "data['n_tokens'] = data['n'].apply(tokenize)\n",
    "print(data.shape)"
   ]
  },
  {
   "cell_type": "code",
   "execution_count": 7,
   "metadata": {},
   "outputs": [
    {
     "data": {
      "text/html": [
       "<div>\n",
       "<style scoped>\n",
       "    .dataframe tbody tr th:only-of-type {\n",
       "        vertical-align: middle;\n",
       "    }\n",
       "\n",
       "    .dataframe tbody tr th {\n",
       "        vertical-align: top;\n",
       "    }\n",
       "\n",
       "    .dataframe thead th {\n",
       "        text-align: right;\n",
       "    }\n",
       "</style>\n",
       "<table border=\"1\" class=\"dataframe\">\n",
       "  <thead>\n",
       "    <tr style=\"text-align: right;\">\n",
       "      <th></th>\n",
       "      <th>n</th>\n",
       "      <th>p</th>\n",
       "      <th>n_tokens</th>\n",
       "    </tr>\n",
       "  </thead>\n",
       "  <tbody>\n",
       "    <tr>\n",
       "      <td>0</td>\n",
       "      <td>МИТКО МАРИНОВ</td>\n",
       "      <td>1</td>\n",
       "      <td>ТКО НОВ</td>\n",
       "    </tr>\n",
       "    <tr>\n",
       "      <td>1</td>\n",
       "      <td>РУМЯНА ЕНЧЕВА</td>\n",
       "      <td>0</td>\n",
       "      <td>ЯНА ЕВА</td>\n",
       "    </tr>\n",
       "    <tr>\n",
       "      <td>2</td>\n",
       "      <td>ДИМИТЪР ИВАНОВ</td>\n",
       "      <td>1</td>\n",
       "      <td>ТЪР НОВ</td>\n",
       "    </tr>\n",
       "    <tr>\n",
       "      <td>3</td>\n",
       "      <td>ИВАН ТОДОРОВ</td>\n",
       "      <td>1</td>\n",
       "      <td>ВАН РОВ</td>\n",
       "    </tr>\n",
       "    <tr>\n",
       "      <td>4</td>\n",
       "      <td>ЗЮЛЕЙХА САДЪК</td>\n",
       "      <td>0</td>\n",
       "      <td>ЙХА ДЪК</td>\n",
       "    </tr>\n",
       "  </tbody>\n",
       "</table>\n",
       "</div>"
      ],
      "text/plain": [
       "                n  p n_tokens\n",
       "0   МИТКО МАРИНОВ  1  ТКО НОВ\n",
       "1   РУМЯНА ЕНЧЕВА  0  ЯНА ЕВА\n",
       "2  ДИМИТЪР ИВАНОВ  1  ТЪР НОВ\n",
       "3    ИВАН ТОДОРОВ  1  ВАН РОВ\n",
       "4   ЗЮЛЕЙХА САДЪК  0  ЙХА ДЪК"
      ]
     },
     "execution_count": 7,
     "metadata": {},
     "output_type": "execute_result"
    }
   ],
   "source": [
    "data.head()"
   ]
  },
  {
   "cell_type": "code",
   "execution_count": 8,
   "metadata": {},
   "outputs": [
    {
     "name": "stdout",
     "output_type": "stream",
     "text": [
      "(114694, 1772)\n"
     ]
    },
    {
     "data": {
      "text/html": [
       "<div>\n",
       "<style scoped>\n",
       "    .dataframe tbody tr th:only-of-type {\n",
       "        vertical-align: middle;\n",
       "    }\n",
       "\n",
       "    .dataframe tbody tr th {\n",
       "        vertical-align: top;\n",
       "    }\n",
       "\n",
       "    .dataframe thead th {\n",
       "        text-align: right;\n",
       "    }\n",
       "</style>\n",
       "<table border=\"1\" class=\"dataframe\">\n",
       "  <thead>\n",
       "    <tr style=\"text-align: right;\">\n",
       "      <th></th>\n",
       "      <th>EВА</th>\n",
       "      <th>ААТ</th>\n",
       "      <th>АБЕ</th>\n",
       "      <th>АБИ</th>\n",
       "      <th>АВА</th>\n",
       "      <th>АВЕ</th>\n",
       "      <th>АВИ</th>\n",
       "      <th>АВО</th>\n",
       "      <th>АГА</th>\n",
       "      <th>АГИ</th>\n",
       "      <th>...</th>\n",
       "      <th>ЯРА</th>\n",
       "      <th>ЯРО</th>\n",
       "      <th>ЯСЕ</th>\n",
       "      <th>ЯТА</th>\n",
       "      <th>ЯТИ</th>\n",
       "      <th>ЯХА</th>\n",
       "      <th>ЯХО</th>\n",
       "      <th>ЯХЯ</th>\n",
       "      <th>class</th>\n",
       "      <th>name</th>\n",
       "    </tr>\n",
       "  </thead>\n",
       "  <tbody>\n",
       "    <tr>\n",
       "      <td>0</td>\n",
       "      <td>0</td>\n",
       "      <td>0</td>\n",
       "      <td>0</td>\n",
       "      <td>0</td>\n",
       "      <td>0</td>\n",
       "      <td>0</td>\n",
       "      <td>0</td>\n",
       "      <td>0</td>\n",
       "      <td>0</td>\n",
       "      <td>0</td>\n",
       "      <td>...</td>\n",
       "      <td>0</td>\n",
       "      <td>0</td>\n",
       "      <td>0</td>\n",
       "      <td>0</td>\n",
       "      <td>0</td>\n",
       "      <td>0</td>\n",
       "      <td>0</td>\n",
       "      <td>0</td>\n",
       "      <td>1</td>\n",
       "      <td>МИТКО МАРИНОВ</td>\n",
       "    </tr>\n",
       "    <tr>\n",
       "      <td>1</td>\n",
       "      <td>0</td>\n",
       "      <td>0</td>\n",
       "      <td>0</td>\n",
       "      <td>0</td>\n",
       "      <td>0</td>\n",
       "      <td>0</td>\n",
       "      <td>0</td>\n",
       "      <td>0</td>\n",
       "      <td>0</td>\n",
       "      <td>0</td>\n",
       "      <td>...</td>\n",
       "      <td>0</td>\n",
       "      <td>0</td>\n",
       "      <td>0</td>\n",
       "      <td>0</td>\n",
       "      <td>0</td>\n",
       "      <td>0</td>\n",
       "      <td>0</td>\n",
       "      <td>0</td>\n",
       "      <td>0</td>\n",
       "      <td>РУМЯНА ЕНЧЕВА</td>\n",
       "    </tr>\n",
       "    <tr>\n",
       "      <td>2</td>\n",
       "      <td>0</td>\n",
       "      <td>0</td>\n",
       "      <td>0</td>\n",
       "      <td>0</td>\n",
       "      <td>0</td>\n",
       "      <td>0</td>\n",
       "      <td>0</td>\n",
       "      <td>0</td>\n",
       "      <td>0</td>\n",
       "      <td>0</td>\n",
       "      <td>...</td>\n",
       "      <td>0</td>\n",
       "      <td>0</td>\n",
       "      <td>0</td>\n",
       "      <td>0</td>\n",
       "      <td>0</td>\n",
       "      <td>0</td>\n",
       "      <td>0</td>\n",
       "      <td>0</td>\n",
       "      <td>1</td>\n",
       "      <td>ДИМИТЪР ИВАНОВ</td>\n",
       "    </tr>\n",
       "    <tr>\n",
       "      <td>3</td>\n",
       "      <td>0</td>\n",
       "      <td>0</td>\n",
       "      <td>0</td>\n",
       "      <td>0</td>\n",
       "      <td>0</td>\n",
       "      <td>0</td>\n",
       "      <td>0</td>\n",
       "      <td>0</td>\n",
       "      <td>0</td>\n",
       "      <td>0</td>\n",
       "      <td>...</td>\n",
       "      <td>0</td>\n",
       "      <td>0</td>\n",
       "      <td>0</td>\n",
       "      <td>0</td>\n",
       "      <td>0</td>\n",
       "      <td>0</td>\n",
       "      <td>0</td>\n",
       "      <td>0</td>\n",
       "      <td>1</td>\n",
       "      <td>ИВАН ТОДОРОВ</td>\n",
       "    </tr>\n",
       "    <tr>\n",
       "      <td>4</td>\n",
       "      <td>0</td>\n",
       "      <td>0</td>\n",
       "      <td>0</td>\n",
       "      <td>0</td>\n",
       "      <td>0</td>\n",
       "      <td>0</td>\n",
       "      <td>0</td>\n",
       "      <td>0</td>\n",
       "      <td>0</td>\n",
       "      <td>0</td>\n",
       "      <td>...</td>\n",
       "      <td>0</td>\n",
       "      <td>0</td>\n",
       "      <td>0</td>\n",
       "      <td>0</td>\n",
       "      <td>0</td>\n",
       "      <td>0</td>\n",
       "      <td>0</td>\n",
       "      <td>0</td>\n",
       "      <td>0</td>\n",
       "      <td>ЗЮЛЕЙХА САДЪК</td>\n",
       "    </tr>\n",
       "  </tbody>\n",
       "</table>\n",
       "<p>5 rows × 1772 columns</p>\n",
       "</div>"
      ],
      "text/plain": [
       "   EВА  ААТ  АБЕ  АБИ  АВА  АВЕ  АВИ  АВО  АГА  АГИ  ...  ЯРА  ЯРО  ЯСЕ  ЯТА  \\\n",
       "0    0    0    0    0    0    0    0    0    0    0  ...    0    0    0    0   \n",
       "1    0    0    0    0    0    0    0    0    0    0  ...    0    0    0    0   \n",
       "2    0    0    0    0    0    0    0    0    0    0  ...    0    0    0    0   \n",
       "3    0    0    0    0    0    0    0    0    0    0  ...    0    0    0    0   \n",
       "4    0    0    0    0    0    0    0    0    0    0  ...    0    0    0    0   \n",
       "\n",
       "   ЯТИ  ЯХА  ЯХО  ЯХЯ  class            name  \n",
       "0    0    0    0    0      1   МИТКО МАРИНОВ  \n",
       "1    0    0    0    0      0   РУМЯНА ЕНЧЕВА  \n",
       "2    0    0    0    0      1  ДИМИТЪР ИВАНОВ  \n",
       "3    0    0    0    0      1    ИВАН ТОДОРОВ  \n",
       "4    0    0    0    0      0   ЗЮЛЕЙХА САДЪК  \n",
       "\n",
       "[5 rows x 1772 columns]"
      ]
     },
     "execution_count": 8,
     "metadata": {},
     "output_type": "execute_result"
    }
   ],
   "source": [
    "from sklearn.feature_extraction.text import CountVectorizer\n",
    "countvec1 = CountVectorizer(lowercase=False)\n",
    "mv = pd.DataFrame(countvec1.fit_transform(data['n_tokens']).toarray(), columns=countvec1.get_feature_names(), index=None)\n",
    "mv['class'] = data['p']\n",
    "mv['name'] = data['n']\n",
    "print(mv.shape)\n",
    "mv.head()"
   ]
  },
  {
   "cell_type": "code",
   "execution_count": 9,
   "metadata": {},
   "outputs": [
    {
     "name": "stdout",
     "output_type": "stream",
     "text": [
      "(114694, 1770)\n",
      "(114694,)\n",
      "[1 0 1 ... 0 1 1]\n"
     ]
    }
   ],
   "source": [
    "X = mv[mv.columns[:-2]]\n",
    "y = mv['class']\n",
    "\n",
    "y=y.values\n",
    "y = y.ravel()\n",
    "y=LabelEncoder().fit_transform(y)\n",
    "print(X.shape)\n",
    "print(y.shape)\n",
    "print(y)\n",
    "X_train, X_test, y_train, y_test = train_test_split(X, y, test_size=0.2, random_state=42)"
   ]
  },
  {
   "cell_type": "code",
   "execution_count": 22,
   "metadata": {},
   "outputs": [
    {
     "name": "stdout",
     "output_type": "stream",
     "text": [
      "SGDClassifier(alpha=0.0001, average=False, class_weight=None,\n",
      "              early_stopping=False, epsilon=0.1, eta0=0.0, fit_intercept=True,\n",
      "              l1_ratio=0.15, learning_rate='optimal', loss='log', max_iter=1000,\n",
      "              n_iter_no_change=5, n_jobs=None, penalty='l2', power_t=0.5,\n",
      "              random_state=None, shuffle=True, tol=0.001,\n",
      "              validation_fraction=0.1, verbose=0, warm_start=False) \n",
      "Basic predictor:\n",
      " 0.5716029469462488 \n",
      "Accuracy score:\n",
      " 0.9769388377871747 \n",
      "Confusion matrix:\n",
      " [[ 9372   455]\n",
      " [   74 13038]] \n",
      "Classification report:\n",
      "               precision    recall  f1-score   support\n",
      "\n",
      "           0       0.99      0.95      0.97      9827\n",
      "           1       0.97      0.99      0.98     13112\n",
      "\n",
      "    accuracy                           0.98     22939\n",
      "   macro avg       0.98      0.97      0.98     22939\n",
      "weighted avg       0.98      0.98      0.98     22939\n",
      "\n",
      "ROC_AUC_1: 0.9986062534997618\n"
     ]
    },
    {
     "data": {
      "image/png": "[encoded data removed]",
      "text/plain": [
       "<Figure size 432x288 with 1 Axes>"
      ]
     },
     "metadata": {
      "needs_background": "light"
     },
     "output_type": "display_data"
    }
   ],
   "source": [
    "    from sklearn.linear_model import SGDClassifier\n",
    "    classifier = SGDClassifier(loss='log')\n",
    "    classifier.fit(X_train, y_train)\n",
    "    y_pred = classifier.predict(X_test)\n",
    "    y_pred_prob = classifier.predict_proba(X_test)\n",
    "    \n",
    "\n",
    "\n",
    "    print (classifier,\n",
    "           \"\\nBasic predictor:\\n\",\n",
    "           max(y_test.mean(), 1-y_test.mean()),\n",
    "           \"\\nAccuracy score:\\n\", \n",
    "           metrics.accuracy_score(y_test, y_pred),\n",
    "           \"\\nConfusion matrix:\\n\", \n",
    "           metrics.confusion_matrix(y_test, y_pred),\n",
    "           \"\\nClassification report:\\n\",\n",
    "           metrics.classification_report(y_test, y_pred))\n",
    "    \n",
    "    pos_prob = y_pred_prob[:, 1]\n",
    "\n",
    "    auc_1 = metrics.roc_auc_score(y_test, pos_prob)\n",
    "    \n",
    "    print('ROC_AUC_1:', auc_1 )\n",
    "    fpr, tpr, thresholds = metrics.roc_curve(y_test, pos_prob)\n",
    "\n",
    "    plt.plot(fpr, tpr, color='orange', label='ROC')\n",
    "    plt.plot([0, 1], [0, 1], color='darkblue', linestyle='--')\n",
    "    plt.xlabel('False Positive Rate')\n",
    "    plt.ylabel('True Positive Rate')\n",
    "    plt.title('Receiver Operating Characteristic (ROC) Curve')\n",
    "    plt.legend()\n",
    "    plt.show()\n"
   ]
  },
  {
   "cell_type": "code",
   "execution_count": 20,
   "metadata": {},
   "outputs": [
    {
     "name": "stderr",
     "output_type": "stream",
     "text": [
      "/home/dimas/anaconda3/lib/python3.7/site-packages/sklearn/model_selection/_split.py:1978: FutureWarning: The default value of cv will change from 3 to 5 in version 0.22. Specify it explicitly to silence this warning.\n",
      "  warnings.warn(CV_WARNING, FutureWarning)\n"
     ]
    },
    {
     "name": "stdout",
     "output_type": "stream",
     "text": [
      "Fitting 3 folds for each of 9 candidates, totalling 27 fits\n"
     ]
    },
    {
     "name": "stderr",
     "output_type": "stream",
     "text": [
      "[Parallel(n_jobs=1)]: Using backend SequentialBackend with 1 concurrent workers.\n"
     ]
    },
    {
     "name": "stdout",
     "output_type": "stream",
     "text": [
      "[CV] alpha=1e-06, epsilon=0.1, loss=log, max_iter=5, penalty=l2 ......\n"
     ]
    },
    {
     "name": "stderr",
     "output_type": "stream",
     "text": [
      "/home/dimas/anaconda3/lib/python3.7/site-packages/sklearn/linear_model/stochastic_gradient.py:561: ConvergenceWarning: Maximum number of iteration reached before convergence. Consider increasing max_iter to improve the fit.\n",
      "  ConvergenceWarning)\n"
     ]
    },
    {
     "name": "stdout",
     "output_type": "stream",
     "text": [
      "[CV]  alpha=1e-06, epsilon=0.1, loss=log, max_iter=5, penalty=l2, score=0.999, total=  56.9s\n",
      "[CV] alpha=1e-06, epsilon=0.1, loss=log, max_iter=5, penalty=l2 ......\n"
     ]
    },
    {
     "name": "stderr",
     "output_type": "stream",
     "text": [
      "[Parallel(n_jobs=1)]: Done   1 out of   1 | elapsed:   57.1s remaining:    0.0s\n",
      "/home/dimas/anaconda3/lib/python3.7/site-packages/sklearn/linear_model/stochastic_gradient.py:561: ConvergenceWarning: Maximum number of iteration reached before convergence. Consider increasing max_iter to improve the fit.\n",
      "  ConvergenceWarning)\n"
     ]
    },
    {
     "name": "stdout",
     "output_type": "stream",
     "text": [
      "[CV]  alpha=1e-06, epsilon=0.1, loss=log, max_iter=5, penalty=l2, score=0.998, total=   9.5s\n",
      "[CV] alpha=1e-06, epsilon=0.1, loss=log, max_iter=5, penalty=l2 ......\n"
     ]
    },
    {
     "name": "stderr",
     "output_type": "stream",
     "text": [
      "[Parallel(n_jobs=1)]: Done   2 out of   2 | elapsed:  1.1min remaining:    0.0s\n",
      "/home/dimas/anaconda3/lib/python3.7/site-packages/sklearn/linear_model/stochastic_gradient.py:561: ConvergenceWarning: Maximum number of iteration reached before convergence. Consider increasing max_iter to improve the fit.\n",
      "  ConvergenceWarning)\n"
     ]
    },
    {
     "name": "stdout",
     "output_type": "stream",
     "text": [
      "[CV]  alpha=1e-06, epsilon=0.1, loss=log, max_iter=5, penalty=l2, score=0.998, total=   5.8s\n",
      "[CV] alpha=1e-06, epsilon=0.1, loss=log, max_iter=10, penalty=l2 .....\n"
     ]
    },
    {
     "name": "stderr",
     "output_type": "stream",
     "text": [
      "/home/dimas/anaconda3/lib/python3.7/site-packages/sklearn/linear_model/stochastic_gradient.py:561: ConvergenceWarning: Maximum number of iteration reached before convergence. Consider increasing max_iter to improve the fit.\n",
      "  ConvergenceWarning)\n"
     ]
    },
    {
     "name": "stdout",
     "output_type": "stream",
     "text": [
      "[CV]  alpha=1e-06, epsilon=0.1, loss=log, max_iter=10, penalty=l2, score=0.999, total=   8.3s\n",
      "[CV] alpha=1e-06, epsilon=0.1, loss=log, max_iter=10, penalty=l2 .....\n"
     ]
    },
    {
     "name": "stderr",
     "output_type": "stream",
     "text": [
      "/home/dimas/anaconda3/lib/python3.7/site-packages/sklearn/linear_model/stochastic_gradient.py:561: ConvergenceWarning: Maximum number of iteration reached before convergence. Consider increasing max_iter to improve the fit.\n",
      "  ConvergenceWarning)\n"
     ]
    },
    {
     "name": "stdout",
     "output_type": "stream",
     "text": [
      "[CV]  alpha=1e-06, epsilon=0.1, loss=log, max_iter=10, penalty=l2, score=0.999, total=   8.3s\n",
      "[CV] alpha=1e-06, epsilon=0.1, loss=log, max_iter=10, penalty=l2 .....\n"
     ]
    },
    {
     "name": "stderr",
     "output_type": "stream",
     "text": [
      "/home/dimas/anaconda3/lib/python3.7/site-packages/sklearn/linear_model/stochastic_gradient.py:561: ConvergenceWarning: Maximum number of iteration reached before convergence. Consider increasing max_iter to improve the fit.\n",
      "  ConvergenceWarning)\n"
     ]
    },
    {
     "name": "stdout",
     "output_type": "stream",
     "text": [
      "[CV]  alpha=1e-06, epsilon=0.1, loss=log, max_iter=10, penalty=l2, score=0.999, total=   8.3s\n",
      "[CV] alpha=1e-06, epsilon=0.1, loss=log, max_iter=20, penalty=l2 .....\n"
     ]
    },
    {
     "name": "stderr",
     "output_type": "stream",
     "text": [
      "/home/dimas/anaconda3/lib/python3.7/site-packages/sklearn/linear_model/stochastic_gradient.py:561: ConvergenceWarning: Maximum number of iteration reached before convergence. Consider increasing max_iter to improve the fit.\n",
      "  ConvergenceWarning)\n"
     ]
    },
    {
     "name": "stdout",
     "output_type": "stream",
     "text": [
      "[CV]  alpha=1e-06, epsilon=0.1, loss=log, max_iter=20, penalty=l2, score=0.999, total=  13.9s\n",
      "[CV] alpha=1e-06, epsilon=0.1, loss=log, max_iter=20, penalty=l2 .....\n"
     ]
    },
    {
     "name": "stderr",
     "output_type": "stream",
     "text": [
      "/home/dimas/anaconda3/lib/python3.7/site-packages/sklearn/linear_model/stochastic_gradient.py:561: ConvergenceWarning: Maximum number of iteration reached before convergence. Consider increasing max_iter to improve the fit.\n",
      "  ConvergenceWarning)\n"
     ]
    },
    {
     "name": "stdout",
     "output_type": "stream",
     "text": [
      "[CV]  alpha=1e-06, epsilon=0.1, loss=log, max_iter=20, penalty=l2, score=0.999, total=  13.9s\n",
      "[CV] alpha=1e-06, epsilon=0.1, loss=log, max_iter=20, penalty=l2 .....\n"
     ]
    },
    {
     "name": "stderr",
     "output_type": "stream",
     "text": [
      "/home/dimas/anaconda3/lib/python3.7/site-packages/sklearn/linear_model/stochastic_gradient.py:561: ConvergenceWarning: Maximum number of iteration reached before convergence. Consider increasing max_iter to improve the fit.\n",
      "  ConvergenceWarning)\n"
     ]
    },
    {
     "name": "stdout",
     "output_type": "stream",
     "text": [
      "[CV]  alpha=1e-06, epsilon=0.1, loss=log, max_iter=20, penalty=l2, score=0.999, total=  13.5s\n",
      "[CV] alpha=1e-06, epsilon=0.1, loss=log, max_iter=30, penalty=l2 .....\n",
      "[CV]  alpha=1e-06, epsilon=0.1, loss=log, max_iter=30, penalty=l2, score=0.999, total=  14.6s\n",
      "[CV] alpha=1e-06, epsilon=0.1, loss=log, max_iter=30, penalty=l2 .....\n",
      "[CV]  alpha=1e-06, epsilon=0.1, loss=log, max_iter=30, penalty=l2, score=0.999, total=  13.5s\n",
      "[CV] alpha=1e-06, epsilon=0.1, loss=log, max_iter=30, penalty=l2 .....\n",
      "[CV]  alpha=1e-06, epsilon=0.1, loss=log, max_iter=30, penalty=l2, score=0.999, total=  13.4s\n",
      "[CV] alpha=1e-06, epsilon=0.1, loss=log, max_iter=50, penalty=l2 .....\n",
      "[CV]  alpha=1e-06, epsilon=0.1, loss=log, max_iter=50, penalty=l2, score=0.999, total=  14.0s\n",
      "[CV] alpha=1e-06, epsilon=0.1, loss=log, max_iter=50, penalty=l2 .....\n",
      "[CV]  alpha=1e-06, epsilon=0.1, loss=log, max_iter=50, penalty=l2, score=0.999, total=  15.7s\n",
      "[CV] alpha=1e-06, epsilon=0.1, loss=log, max_iter=50, penalty=l2 .....\n",
      "[CV]  alpha=1e-06, epsilon=0.1, loss=log, max_iter=50, penalty=l2, score=0.999, total=  12.3s\n",
      "[CV] alpha=1e-06, epsilon=0.1, loss=log, max_iter=100, penalty=l2 ....\n",
      "[CV]  alpha=1e-06, epsilon=0.1, loss=log, max_iter=100, penalty=l2, score=0.999, total=  15.1s\n",
      "[CV] alpha=1e-06, epsilon=0.1, loss=log, max_iter=100, penalty=l2 ....\n",
      "[CV]  alpha=1e-06, epsilon=0.1, loss=log, max_iter=100, penalty=l2, score=0.999, total=  13.1s\n",
      "[CV] alpha=1e-06, epsilon=0.1, loss=log, max_iter=100, penalty=l2 ....\n",
      "[CV]  alpha=1e-06, epsilon=0.1, loss=log, max_iter=100, penalty=l2, score=0.999, total=  13.4s\n",
      "[CV] alpha=1e-06, epsilon=0.1, loss=log, max_iter=500, penalty=l2 ....\n",
      "[CV]  alpha=1e-06, epsilon=0.1, loss=log, max_iter=500, penalty=l2, score=0.999, total=  12.9s\n",
      "[CV] alpha=1e-06, epsilon=0.1, loss=log, max_iter=500, penalty=l2 ....\n",
      "[CV]  alpha=1e-06, epsilon=0.1, loss=log, max_iter=500, penalty=l2, score=0.999, total=  13.5s\n",
      "[CV] alpha=1e-06, epsilon=0.1, loss=log, max_iter=500, penalty=l2 ....\n",
      "[CV]  alpha=1e-06, epsilon=0.1, loss=log, max_iter=500, penalty=l2, score=0.999, total=  12.8s\n",
      "[CV] alpha=1e-06, epsilon=0.1, loss=log, max_iter=1000, penalty=l2 ...\n",
      "[CV]  alpha=1e-06, epsilon=0.1, loss=log, max_iter=1000, penalty=l2, score=0.999, total=  14.0s\n",
      "[CV] alpha=1e-06, epsilon=0.1, loss=log, max_iter=1000, penalty=l2 ...\n",
      "[CV]  alpha=1e-06, epsilon=0.1, loss=log, max_iter=1000, penalty=l2, score=0.999, total=  14.6s\n",
      "[CV] alpha=1e-06, epsilon=0.1, loss=log, max_iter=1000, penalty=l2 ...\n",
      "[CV]  alpha=1e-06, epsilon=0.1, loss=log, max_iter=1000, penalty=l2, score=0.999, total=  15.5s\n",
      "[CV] alpha=1e-06, epsilon=0.1, loss=log, max_iter=2000, penalty=l2 ...\n",
      "[CV]  alpha=1e-06, epsilon=0.1, loss=log, max_iter=2000, penalty=l2, score=0.999, total=  15.1s\n",
      "[CV] alpha=1e-06, epsilon=0.1, loss=log, max_iter=2000, penalty=l2 ...\n",
      "[CV]  alpha=1e-06, epsilon=0.1, loss=log, max_iter=2000, penalty=l2, score=0.999, total=  13.0s\n",
      "[CV] alpha=1e-06, epsilon=0.1, loss=log, max_iter=2000, penalty=l2 ...\n",
      "[CV]  alpha=1e-06, epsilon=0.1, loss=log, max_iter=2000, penalty=l2, score=0.999, total=  14.0s\n"
     ]
    },
    {
     "name": "stderr",
     "output_type": "stream",
     "text": [
      "[Parallel(n_jobs=1)]: Done  27 out of  27 | elapsed:  6.5min finished\n"
     ]
    },
    {
     "name": "stdout",
     "output_type": "stream",
     "text": [
      "{'alpha': 1e-06, 'epsilon': 0.1, 'loss': 'log', 'max_iter': 1000, 'penalty': 'l2'}\n",
      "SGDClassifier(alpha=1e-06, average=False, class_weight=None,\n",
      "              early_stopping=False, epsilon=0.1, eta0=0.0, fit_intercept=True,\n",
      "              l1_ratio=0.15, learning_rate='optimal', loss='log', max_iter=1000,\n",
      "              n_iter_no_change=5, n_jobs=None, penalty='l2', power_t=0.5,\n",
      "              random_state=None, shuffle=True, tol=0.001,\n",
      "              validation_fraction=0.1, verbose=0, warm_start=False)\n"
     ]
    }
   ],
   "source": [
    "from sklearn.model_selection import GridSearchCV\n",
    "#from sklearn.metrics import roc_curve, auc\n",
    "from sklearn.feature_selection import RFE\n",
    "\n",
    "from sklearn.svm import SVC\n",
    "from sklearn.neighbors import KNeighborsClassifier\n",
    "from sklearn.tree import DecisionTreeClassifier\n",
    "from sklearn.ensemble import RandomForestClassifier, AdaBoostClassifier, ExtraTreesClassifier\n",
    "from sklearn.linear_model import LogisticRegression\n",
    "\n",
    "\n",
    "\n",
    "\n",
    "\n",
    "#defining parameter range \n",
    "param_grid = {'loss':['log'], \n",
    "              'penalty':[\"l2\"],\n",
    "              'epsilon':[0.1],\n",
    "              'alpha' :[0.000001 ],#0.0001,\n",
    "              'max_iter':[5,10,20,30,50,100,500,1000,2000]}\n",
    "\n",
    "roc_auc_scorer = metrics.make_scorer(metrics.roc_auc_score, greater_is_better=True, needs_proba= True)\n",
    "                                   #  needs_threshold=True)\n",
    "\n",
    "\n",
    "\n",
    "grid = GridSearchCV(SGDClassifier(), param_grid, refit = True, verbose = False, cv=3, scoring = roc_auc_scorer) #scoring = 'accuracy'‘roc_auc’\n",
    "  \n",
    "# fitting the model for grid search \n",
    "grid.fit(X_train, y_train) \n",
    "\n",
    "# print best parameter after tuning \n",
    "print(grid.best_params_) \n",
    "  \n",
    "# print how our model looks after hyper-parameter tuning \n",
    "print(grid.best_estimator_) \n",
    "\n",
    "#grid_predictions = grid.predict(X_test) \n",
    "  \n",
    "#print(classification report)\n",
    "#print(metrics.classification_report(y_test, grid_predictions)) \n",
    "#print(metrics.roc_auc_score(y_test, grid_predictions))"
   ]
  },
  {
   "cell_type": "code",
   "execution_count": 23,
   "metadata": {
    "scrolled": true
   },
   "outputs": [
    {
     "name": "stdout",
     "output_type": "stream",
     "text": [
      "SGDClassifier(alpha=1e-06, average=False, class_weight=None,\n",
      "              early_stopping=False, epsilon=0.1, eta0=0.0, fit_intercept=True,\n",
      "              l1_ratio=0.15, learning_rate='optimal', loss='log', max_iter=1000,\n",
      "              n_iter_no_change=5, n_jobs=None, penalty='l2', power_t=0.5,\n",
      "              random_state=None, shuffle=True, tol=0.001,\n",
      "              validation_fraction=0.1, verbose=0, warm_start=False) \n",
      "Basic predictor:\n",
      " 0.5716029469462488 \n",
      "Accuracy score:\n",
      " 0.9836087013383321 \n",
      "Confusion matrix:\n",
      " [[ 9586   241]\n",
      " [  135 12977]] \n",
      "Classification report:\n",
      "               precision    recall  f1-score   support\n",
      "\n",
      "           0       0.99      0.98      0.98      9827\n",
      "           1       0.98      0.99      0.99     13112\n",
      "\n",
      "    accuracy                           0.98     22939\n",
      "   macro avg       0.98      0.98      0.98     22939\n",
      "weighted avg       0.98      0.98      0.98     22939\n",
      "\n",
      "ROC_AUC: 0.9989396835231196\n"
     ]
    },
    {
     "data": {
      "image/png": "[encoded data removed]",
      "text/plain": [
       "<Figure size 432x288 with 1 Axes>"
      ]
     },
     "metadata": {
      "needs_background": "light"
     },
     "output_type": "display_data"
    }
   ],
   "source": [
    "    #classifier = grid.best_estimator_\n",
    "    classifier = SGDClassifier(alpha=1e-06, average=False, class_weight=None,\n",
    "              early_stopping=False, epsilon=0.1, eta0=0.0, fit_intercept=True,\n",
    "              l1_ratio=0.15, learning_rate='optimal', loss='log', max_iter=1000,\n",
    "              n_iter_no_change=5, n_jobs=None, penalty='l2', power_t=0.5,\n",
    "              random_state=None, shuffle=True, tol=0.001,\n",
    "              validation_fraction=0.1, verbose=0, warm_start=False)\n",
    "    \n",
    "    classifier.fit(X_train, y_train)\n",
    "    y_pred = classifier.predict(X_test)\n",
    "    y_pred_prob = classifier.predict_proba(X_test)\n",
    "    \n",
    "\n",
    "\n",
    "    print (classifier,\n",
    "           \"\\nBasic predictor:\\n\",\n",
    "           max(y_test.mean(), 1-y_test.mean()),\n",
    "           \"\\nAccuracy score:\\n\", \n",
    "           metrics.accuracy_score(y_test, y_pred),\n",
    "           \"\\nConfusion matrix:\\n\", \n",
    "           metrics.confusion_matrix(y_test, y_pred),\n",
    "           \"\\nClassification report:\\n\",\n",
    "           metrics.classification_report(y_test, y_pred))\n",
    "    \n",
    "    pos_prob = y_pred_prob[:, 1]\n",
    "\n",
    "    auc_2 = metrics.roc_auc_score(y_test, pos_prob)\n",
    "    \n",
    "    print('ROC_AUC:', auc_2 )\n",
    "    fpr, tpr, thresholds = metrics.roc_curve(y_test, pos_prob)\n",
    "\n",
    "    plt.plot(fpr, tpr, color='orange', label='ROC')\n",
    "    plt.plot([0, 1], [0, 1], color='darkblue', linestyle='--')\n",
    "    plt.xlabel('False Positive Rate')\n",
    "    plt.ylabel('True Positive Rate')\n",
    "    plt.title('Receiver Operating Characteristic (ROC) Curve')\n",
    "    plt.legend()\n",
    "    plt.show()"
   ]
  },
  {
   "cell_type": "code",
   "execution_count": 25,
   "metadata": {},
   "outputs": [
    {
     "name": "stdout",
     "output_type": "stream",
     "text": [
      "0.0003334300233577281\n"
     ]
    }
   ],
   "source": [
    "print(auc_2-auc_1)"
   ]
  },
  {
   "cell_type": "code",
   "execution_count": null,
   "metadata": {},
   "outputs": [],
   "source": []
  }
 ],
 "metadata": {
  "kernelspec": {
   "display_name": "Python 3",
   "language": "python",
   "name": "python3"
  },
  "language_info": {
   "codemirror_mode": {
    "name": "ipython",
    "version": 3
   },
   "file_extension": ".py",
   "mimetype": "text/x-python",
   "name": "python",
   "nbconvert_exporter": "python",
   "pygments_lexer": "ipython3",
   "version": "3.7.3"
  }
 },
 "nbformat": 4,
 "nbformat_minor": 2
}
