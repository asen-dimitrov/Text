{
 "cells": [
  {
   "cell_type": "code",
   "execution_count": 2,
   "metadata": {
    "colab": {},
    "colab_type": "code",
    "id": "RrMU-evU16ti"
   },
   "outputs": [],
   "source": [
    "def val(a):\n",
    "    a=str(a)\n",
    "    a=a.strip()\n",
    "    if not a.isdigit():\n",
    "        return \"greshen\"\n",
    "    else:\n",
    "        l=len(str(a))\n",
    "        if l == 10:\n",
    "            result = val_egn(a)\n",
    "        elif l==9:\n",
    "            result = val_eik9(a)\n",
    "        elif l==13:\n",
    "            result = val_eik13(a)\n",
    "        else: \n",
    "            return \"greshen\"\n",
    "    return result"
   ]
  },
  {
   "cell_type": "code",
   "execution_count": 3,
   "metadata": {
    "colab": {},
    "colab_type": "code",
    "id": "yDVAvm2S16tv"
   },
   "outputs": [],
   "source": [
    "def val_egn(a):\n",
    "    tegla = [2, 4, 8, 5, 10, 9, 7, 3, 6]\n",
    "    sumata = 0\n",
    "    for i in range(len(str(a))-1):\n",
    "        sumata+=(int(a[i])*int(tegla[i]))\n",
    "        \n",
    "    if sumata%11<10:\n",
    "        kc=sumata%11\n",
    "    elif sumata%11==10:\n",
    "        kc=0\n",
    "        \n",
    "    if int(a[9])==kc:\n",
    "        result=\"EGN\"\n",
    "    else:\n",
    "        result=\"greshen\"\n",
    "    return result    "
   ]
  },
  {
   "cell_type": "code",
   "execution_count": 4,
   "metadata": {
    "colab": {},
    "colab_type": "code",
    "id": "UhlH1Zhg16tz"
   },
   "outputs": [],
   "source": [
    "def val_eik9(a):\n",
    "    tegla = [1, 2, 3, 4, 5, 6, 7, 8]\n",
    "    tegla2= [3, 4, 5, 6, 7, 8, 9, 10]\n",
    "    sumata = 0\n",
    "    for i in range(len(str(a))-1):\n",
    "        sumata+=(int(a[i])*int(tegla[i]))\n",
    "        \n",
    "    if sumata%11<10:\n",
    "        kc=sumata%11\n",
    "    elif sumata%11==10:\n",
    "        sumata=0\n",
    "        for i in range(len(str(a))-1):\n",
    "            sumata+=(int(a[i])*int(tegla2[i]))\n",
    "        if sumata%11<10:\n",
    "            kc=sumata%11\n",
    "        elif sumata%11==10:\n",
    "            kc=0\n",
    "            \n",
    "    if int(a[8])==kc:\n",
    "        result=\"EIK9\"\n",
    "    else:\n",
    "        result=\"greshen\"\n",
    "    return result    "
   ]
  },
  {
   "cell_type": "code",
   "execution_count": 5,
   "metadata": {
    "colab": {},
    "colab_type": "code",
    "id": "hni3IBnX16t3"
   },
   "outputs": [],
   "source": [
    "def val_eik13(a):\n",
    "    tegla3= [2,7,3,5]\n",
    "    tegla4= [4,9,5,7]\n",
    "    sumata = 0\n",
    "    \n",
    "    if val_eik9(a[0:9])==\"greshen\":\n",
    "        return \"greshen\"\n",
    "    else:\n",
    "        for i in range(9,13):\n",
    "            sumata+=(int(a[i])*int(tegla3[i-9]))\n",
    "        if sumata%11<10:\n",
    "            kc=sumata%11\n",
    "        elif sumata%11==10:\n",
    "            sumata = 0\n",
    "            for i in range(9,13):\n",
    "                sumata+=(int(a[i])*int(tegla4[i-9]))\n",
    "            if sumata%11<10:\n",
    "                kc=sumata%11\n",
    "            elif sumata%11==10:\n",
    "                kc=0\n",
    "    if int(a[8])==kc:\n",
    "        result=\"EIK13\"\n",
    "    else:\n",
    "        result=\"greshen\" \n",
    "    return result    "
   ]
  },
  {
   "cell_type": "code",
   "execution_count": 6,
   "metadata": {
    "colab": {},
    "colab_type": "code",
    "id": "zH0Ibc2U16t6"
   },
   "outputs": [],
   "source": [
    "def ext_egn(a):\n",
    "    if val(a) != \"EGN\":\n",
    "        return \"greshen\"\n",
    "    \n",
    "    #####\n",
    "    if int(a[8])%2:\n",
    "        pol=\"жена\"\n",
    "    else:\n",
    "        pol=\"мъж\"\n",
    "            \n",
    "    #####\n",
    "    godina, mesec, den =a[0:2], a[2:4], a[4:6]\n",
    "    if int(mesec) > 40:\n",
    "        godina = int(godina) + 2000\n",
    "        mesec = int(mesec) - 40\n",
    "    elif int(mesec) > 20:\n",
    "        godina = int(godina) + 1800\n",
    "        mesec = int(mesec) - 20\n",
    "    else:\n",
    "        godina = int(godina) + 1900\n",
    "    rden = str(den)+\".\"+str(mesec)+\".\"+str(godina)  \n",
    "    \n",
    "    \n",
    "    ####\n",
    "    result = pol + \" \" + rden\n",
    "    return result"
   ]
  },
  {
   "cell_type": "code",
   "execution_count": 7,
   "metadata": {},
   "outputs": [],
   "source": [
    "def ext_egnsreg(a):\n",
    "    if val(a) != \"EGN\":\n",
    "        return \"greshen\"\n",
    "    \n",
    "    #####\n",
    "    if int(a[8])%2:\n",
    "        pol=\"жена\"\n",
    "    else:\n",
    "        pol=\"мъж\"\n",
    "            \n",
    "    #####\n",
    "    godina, mesec, den =a[0:2], a[2:4], a[4:6]\n",
    "    if int(mesec) > 40:\n",
    "        godina = int(godina) + 2000\n",
    "        mesec = int(mesec) - 40\n",
    "    elif int(mesec) > 20:\n",
    "        godina = int(godina) + 1800\n",
    "        mesec = int(mesec) - 20\n",
    "    else:\n",
    "        godina = int(godina) + 1900\n",
    "    rden = str(den)+\".\"+str(mesec)+\".\"+str(godina)  \n",
    "    \n",
    "    ####\n",
    "    ereg = [43,93,139,169,183,217,233,281,301,319,341,377,395,435,501,527,555,575,601,623,721,751,789,821,843,871,903,925,999]\n",
    "    reggr = [\"Благоевград\", \"Бургас\", \"Варна\", \"Велико Търново\", \"Видин\", \"Враца\", \"Габрово\", \"Кърджали\", \"Кюстендил\", \"Ловеч\", \"Монтана\", \"Пазарджик\", \"Перник\", \"Плевен\", \"Пловдив\", \"Разград\", \"Русе\", \"Силистра\", \"Сливен\", \"Смолян\", \"София - град\", \"София - окръг\", \"Стара Загора\", \"Добрич (Толбухин)\", \"Търговище\", \"Хасково\", \"Шумен\", \"Ямбол\", \"Друг/Неизвестен\" ]\n",
    "    for e in ereg:\n",
    "        if int(a[6:9]) <= e:\n",
    "            region = reggr[ereg.index(e)]\n",
    "            break\n",
    "            \n",
    "    ####\n",
    "    result = pol + \" \" + rden + \" \" + region\n",
    "    return result"
   ]
  },
  {
   "cell_type": "code",
   "execution_count": null,
   "metadata": {},
   "outputs": [],
   "source": []
  }
 ],
 "metadata": {
  "colab": {
   "collapsed_sections": [],
   "name": "validation.ipynb",
   "provenance": [],
   "version": "0.3.2"
  },
  "kernelspec": {
   "display_name": "Python 3",
   "language": "python",
   "name": "python3"
  },
  "language_info": {
   "codemirror_mode": {
    "name": "ipython",
    "version": 3
   },
   "file_extension": ".py",
   "mimetype": "text/x-python",
   "name": "python",
   "nbconvert_exporter": "python",
   "pygments_lexer": "ipython3",
   "version": "3.7.3"
  }
 },
 "nbformat": 4,
 "nbformat_minor": 1
}
